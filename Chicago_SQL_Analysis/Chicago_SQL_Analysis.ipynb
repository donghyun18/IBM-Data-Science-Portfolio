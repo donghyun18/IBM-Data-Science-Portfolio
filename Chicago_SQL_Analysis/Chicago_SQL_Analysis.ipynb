{
 "cells": [
  {
   "cell_type": "markdown",
   "id": "119d5abf",
   "metadata": {},
   "source": [
    "# Chicago Crime Data SQL Analysis\n",
    "This notebook loads datasets into SQLite and performs SQL queries for analysis."
   ]
  },
  {
   "cell_type": "code",
   "execution_count": 1,
   "id": "e4553f30",
   "metadata": {},
   "outputs": [
    {
     "name": "stdout",
     "output_type": "stream",
     "text": [
      "Data loaded into SQLite database.\n"
     ]
    }
   ],
   "source": [
    "import sqlite3\n",
    "import pandas as pd\n",
    "\n",
    "# Load datasets\n",
    "census_df = pd.read_csv('ChicagoCensusData.csv')\n",
    "crime_df = pd.read_csv('ChicagoCrimeData.csv')\n",
    "schools_df = pd.read_csv('ChicagoPublicSchools.csv')\n",
    "\n",
    "# Connect to SQLite\n",
    "conn = sqlite3.connect('chicago.db')\n",
    "\n",
    "# Load tables\n",
    "census_df.to_sql('CENSUS_DATA', conn, if_exists='replace', index=False)\n",
    "crime_df.to_sql('CRIME', conn, if_exists='replace', index=False)\n",
    "schools_df.to_sql('CHICAGO_PUBLIC_SCHOOLS', conn, if_exists='replace', index=False)\n",
    "\n",
    "print(\"Data loaded into SQLite database.\")"
   ]
  },
  {
   "cell_type": "markdown",
   "id": "60c80edc",
   "metadata": {},
   "source": [
    "## Problem 1: Total number of crimes"
   ]
  },
  {
   "cell_type": "code",
   "execution_count": 2,
   "id": "3fd095a3",
   "metadata": {},
   "outputs": [
    {
     "name": "stdout",
     "output_type": "stream",
     "text": [
      "   TOTAL_CRIMES\n",
      "0           533\n"
     ]
    }
   ],
   "source": [
    "query1 = \"SELECT COUNT(*) AS TOTAL_CRIMES FROM CRIME\"\n",
    "result1 = pd.read_sql_query(query1, conn)\n",
    "print(result1)"
   ]
  },
  {
   "cell_type": "markdown",
   "id": "dacfa487",
   "metadata": {},
   "source": [
    "## Problem 2: Community areas with per capita income less than 11000"
   ]
  },
  {
   "cell_type": "code",
   "execution_count": 3,
   "id": "e3110f7d",
   "metadata": {},
   "outputs": [
    {
     "name": "stdout",
     "output_type": "stream",
     "text": [
      "   COMMUNITY_AREA_NUMBER COMMUNITY_AREA_NAME\n",
      "0                   26.0  West Garfield Park\n",
      "1                   30.0      South Lawndale\n",
      "2                   37.0         Fuller Park\n",
      "3                   54.0           Riverdale\n"
     ]
    }
   ],
   "source": [
    "query2 = \"SELECT COMMUNITY_AREA_NUMBER, COMMUNITY_AREA_NAME FROM CENSUS_DATA WHERE PER_CAPITA_INCOME < 11000\"\n",
    "result2 = pd.read_sql_query(query2, conn)\n",
    "print(result2)"
   ]
  },
  {
   "cell_type": "markdown",
   "id": "acb207d1",
   "metadata": {},
   "source": [
    "## Problem 3: Crimes involving minors (excluding 'children')"
   ]
  },
  {
   "cell_type": "code",
   "execution_count": 4,
   "id": "2c561d75",
   "metadata": {},
   "outputs": [
    {
     "name": "stdout",
     "output_type": "stream",
     "text": [
      "  CASE_NUMBER\n",
      "0    HL266884\n",
      "1    HK238408\n"
     ]
    }
   ],
   "source": [
    "query3 = \"SELECT CASE_NUMBER FROM CRIME WHERE DESCRIPTION LIKE '%MINOR%'\"\n",
    "result3 = pd.read_sql_query(query3, conn)\n",
    "print(result3)"
   ]
  },
  {
   "cell_type": "markdown",
   "id": "9ab6d60b",
   "metadata": {},
   "source": [
    "## Problem 4: Kidnapping crimes involving a child"
   ]
  },
  {
   "cell_type": "code",
   "execution_count": 5,
   "id": "fd65c525",
   "metadata": {},
   "outputs": [
    {
     "name": "stdout",
     "output_type": "stream",
     "text": [
      "        ID CASE_NUMBER        DATE                 BLOCK  IUCR PRIMARY_TYPE  \\\n",
      "0  5276766    HN144152  2007-01-26  050XX W VAN BUREN ST  1792   KIDNAPPING   \n",
      "\n",
      "                DESCRIPTION LOCATION_DESCRIPTION  ARREST  DOMESTIC  ...  \\\n",
      "0  CHILD ABDUCTION/STRANGER               STREET       0         0  ...   \n",
      "\n",
      "   DISTRICT  WARD  COMMUNITY_AREA_NUMBER  FBICODE X_COORDINATE  Y_COORDINATE  \\\n",
      "0        15  29.0                   25.0       20    1143050.0     1897546.0   \n",
      "\n",
      "   YEAR   LATITUDE  LONGITUDE                       LOCATION  \n",
      "0  2007  41.874908 -87.750249  (41.874908413, -87.750249307)  \n",
      "\n",
      "[1 rows x 21 columns]\n"
     ]
    }
   ],
   "source": [
    "query4 = \"SELECT * FROM CRIME WHERE PRIMARY_TYPE = 'KIDNAPPING' AND DESCRIPTION LIKE '%CHILD%'\"\n",
    "result4 = pd.read_sql_query(query4, conn)\n",
    "print(result4)"
   ]
  },
  {
   "cell_type": "markdown",
   "id": "0ec3e3a7",
   "metadata": {},
   "source": [
    "## Problem 5: Types of crimes recorded at schools"
   ]
  },
  {
   "cell_type": "code",
   "execution_count": 6,
   "id": "fb9ae771",
   "metadata": {},
   "outputs": [
    {
     "name": "stdout",
     "output_type": "stream",
     "text": [
      "             PRIMARY_TYPE\n",
      "0                 BATTERY\n",
      "1         CRIMINAL DAMAGE\n",
      "2               NARCOTICS\n",
      "3                 ASSAULT\n",
      "4       CRIMINAL TRESPASS\n",
      "5  PUBLIC PEACE VIOLATION\n"
     ]
    }
   ],
   "source": [
    "query5 = \"SELECT DISTINCT PRIMARY_TYPE FROM CRIME WHERE LOCATION_DESCRIPTION LIKE '%SCHOOL%'\"\n",
    "result5 = pd.read_sql_query(query5, conn)\n",
    "print(result5)"
   ]
  },
  {
   "cell_type": "markdown",
   "id": "65f182ed",
   "metadata": {},
   "source": [
    "## Problem 6: Type of schools with average safety score"
   ]
  },
  {
   "cell_type": "code",
   "execution_count": 7,
   "id": "c164a8ae",
   "metadata": {},
   "outputs": [
    {
     "name": "stdout",
     "output_type": "stream",
     "text": [
      "  Elementary, Middle, or High School  AVERAGE_SAFETY_SCORE\n",
      "0                                 ES             49.520384\n",
      "1                                 HS             49.623529\n",
      "2                                 MS             48.000000\n"
     ]
    }
   ],
   "source": [
    "query6 = \"SELECT [Elementary, Middle, or High School], AVG(SAFETY_SCORE) AS AVERAGE_SAFETY_SCORE FROM CHICAGO_PUBLIC_SCHOOLS GROUP BY [Elementary, Middle, or High School]\"\n",
    "result6 = pd.read_sql_query(query6, conn)\n",
    "print(result6)"
   ]
  },
  {
   "cell_type": "markdown",
   "id": "06678f99",
   "metadata": {},
   "source": [
    "## Problem 7: 5 community areas with highest % of households below poverty line"
   ]
  },
  {
   "cell_type": "code",
   "execution_count": 8,
   "id": "baa0031f",
   "metadata": {},
   "outputs": [
    {
     "name": "stdout",
     "output_type": "stream",
     "text": [
      "   COMMUNITY_AREA_NUMBER COMMUNITY_AREA_NAME  PERCENT_HOUSEHOLDS_BELOW_POVERTY\n",
      "0                   54.0           Riverdale                              56.5\n",
      "1                   37.0         Fuller Park                              51.2\n",
      "2                   68.0           Englewood                              46.6\n",
      "3                   29.0      North Lawndale                              43.1\n",
      "4                   27.0  East Garfield Park                              42.4\n"
     ]
    }
   ],
   "source": [
    "query7 = \"SELECT COMMUNITY_AREA_NUMBER, COMMUNITY_AREA_NAME, PERCENT_HOUSEHOLDS_BELOW_POVERTY FROM CENSUS_DATA ORDER BY PERCENT_HOUSEHOLDS_BELOW_POVERTY DESC LIMIT 5\"\n",
    "result7 = pd.read_sql_query(query7, conn)\n",
    "print(result7)"
   ]
  },
  {
   "cell_type": "markdown",
   "id": "8d4636d6",
   "metadata": {},
   "source": [
    "## Problem 8: Most crime prone community area number"
   ]
  },
  {
   "cell_type": "code",
   "execution_count": 9,
   "id": "bd93ad2d",
   "metadata": {},
   "outputs": [
    {
     "name": "stdout",
     "output_type": "stream",
     "text": [
      "   COMMUNITY_AREA_NUMBER\n",
      "0                   25.0\n"
     ]
    }
   ],
   "source": [
    "query8 = \"SELECT COMMUNITY_AREA_NUMBER FROM CRIME WHERE COMMUNITY_AREA_NUMBER IS NOT NULL GROUP BY COMMUNITY_AREA_NUMBER ORDER BY COUNT(*) DESC LIMIT 1\"\n",
    "result8 = pd.read_sql_query(query8, conn)\n",
    "print(result8)"
   ]
  },
  {
   "cell_type": "markdown",
   "id": "836ca579",
   "metadata": {},
   "source": [
    "## Problem 9: Name of community area with highest hardship index (Sub-query)"
   ]
  },
  {
   "cell_type": "code",
   "execution_count": 10,
   "id": "599bb6ee",
   "metadata": {},
   "outputs": [
    {
     "name": "stdout",
     "output_type": "stream",
     "text": [
      "  COMMUNITY_AREA_NAME\n",
      "0           Riverdale\n"
     ]
    }
   ],
   "source": [
    "query9 = \"SELECT COMMUNITY_AREA_NAME FROM CENSUS_DATA WHERE HARDSHIP_INDEX = (SELECT MAX(HARDSHIP_INDEX) FROM CENSUS_DATA)\"\n",
    "result9 = pd.read_sql_query(query9, conn)\n",
    "print(result9)"
   ]
  },
  {
   "cell_type": "markdown",
   "id": "e645a01e",
   "metadata": {},
   "source": [
    "## Problem 10: Community Area Name with most crimes (Sub-query)"
   ]
  },
  {
   "cell_type": "code",
   "execution_count": 11,
   "id": "500da98e",
   "metadata": {},
   "outputs": [
    {
     "name": "stdout",
     "output_type": "stream",
     "text": [
      "  COMMUNITY_AREA_NAME\n",
      "0              Austin\n"
     ]
    }
   ],
   "source": [
    "query10 = \"SELECT COMMUNITY_AREA_NAME FROM CENSUS_DATA WHERE COMMUNITY_AREA_NUMBER = (SELECT COMMUNITY_AREA_NUMBER FROM CRIME WHERE COMMUNITY_AREA_NUMBER IS NOT NULL GROUP BY COMMUNITY_AREA_NUMBER ORDER BY COUNT(*) DESC LIMIT 1)\"\n",
    "result10 = pd.read_sql_query(query10, conn)\n",
    "print(result10)\n",
    "\n",
    "conn.close()"
   ]
  }
 ],
 "metadata": {
  "kernelspec": {
   "display_name": "Python 3",
   "language": "python",
   "name": "python3"
  },
  "language_info": {
   "codemirror_mode": {
    "name": "ipython",
    "version": 3
   },
   "file_extension": ".py",
   "mimetype": "text/x-python",
   "name": "python",
   "nbconvert_exporter": "python",
   "pygments_lexer": "ipython3",
   "version": "3.11.3"
  }
 },
 "nbformat": 4,
 "nbformat_minor": 5
}
